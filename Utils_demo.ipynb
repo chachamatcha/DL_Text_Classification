{
 "cells": [
  {
   "cell_type": "code",
   "execution_count": 1,
   "metadata": {},
   "outputs": [
    {
     "name": "stderr",
     "output_type": "stream",
     "text": [
      "/home/ubuntu/src/anaconda3/envs/kc/lib/python3.6/site-packages/h5py/__init__.py:36: FutureWarning: Conversion of the second argument of issubdtype from `float` to `np.floating` is deprecated. In future, it will be treated as `np.float64 == np.dtype(float).type`.\n",
      "  from ._conv import register_converters as _register_converters\n",
      "Using TensorFlow backend.\n"
     ]
    }
   ],
   "source": [
    "import pandas as pd\n",
    "\n",
    "from models.utils import RocAucEvaluation\n",
    "from models.utils import tok_embed"
   ]
  },
  {
   "cell_type": "markdown",
   "metadata": {},
   "source": [
    "# Tokenize and Embed"
   ]
  },
  {
   "cell_type": "code",
   "execution_count": 2,
   "metadata": {},
   "outputs": [
    {
     "name": "stdout",
     "output_type": "stream",
     "text": [
      "tokenizing...\n"
     ]
    },
    {
     "name": "stderr",
     "output_type": "stream",
     "text": [
      "getting coefs: 1917494it [02:30, 12728.85it/s]\n",
      "creating embedding matrix: 100%|██████████| 394787/394787 [00:00<00:00, 626615.33it/s]"
     ]
    },
    {
     "name": "stdout",
     "output_type": "stream",
     "text": [
      "Found 1917494 word vectors.\n"
     ]
    },
    {
     "name": "stderr",
     "output_type": "stream",
     "text": [
      "\n"
     ]
    }
   ],
   "source": [
    "# paths\n",
    "train_path = '../data/train.csv'\n",
    "test_path = '../data/test.csv'\n",
    "embedding_path = '../data/glove.42B.300d.txt'\n",
    "\n",
    "# load\n",
    "train = pd.read_csv(train_path)\n",
    "test = pd.read_csv(test_path)\n",
    "\n",
    "# fill and store X's\n",
    "X_train = train[\"comment_text\"].fillna(\"fillna\").values\n",
    "X_test = test[\"comment_text\"].fillna(\"fillna\").values\n",
    "\n",
    "\n",
    "\n",
    "# embedding parameters\n",
    "max_features = 100000\n",
    "maxlen = 200\n",
    "embed_size = 300\n",
    "\n",
    "\n",
    "\n",
    "# get tokenized/padded and embedding matrix\n",
    "x_train, x_test, emedding_matrix = tok_embed(X_train, X_test, embedding_path='../data/glove.42B.300d.txt', \n",
    "                                             max_features = 100000, \n",
    "                                             maxlen = 200, \n",
    "                                             embed_size = 300, \n",
    "                                             verbose=True)"
   ]
  }
 ],
 "metadata": {
  "kernelspec": {
   "display_name": "Python [conda env:kc]",
   "language": "python",
   "name": "conda-env-kc-py"
  },
  "language_info": {
   "codemirror_mode": {
    "name": "ipython",
    "version": 3
   },
   "file_extension": ".py",
   "mimetype": "text/x-python",
   "name": "python",
   "nbconvert_exporter": "python",
   "pygments_lexer": "ipython3",
   "version": "3.6.4"
  }
 },
 "nbformat": 4,
 "nbformat_minor": 2
}
