{
 "cells": [
  {
   "cell_type": "markdown",
   "metadata": {},
   "source": [
    "# Toxic Comment Classification Benchmarks\n",
    "Collection of Deep Learning Text Classification Models and Benchmarks; All gpu models contained within the repo were trained with 4 v100's using the AWS p3.8xlarge instance and the AWS deep learning AMI. "
   ]
  },
  {
   "cell_type": "code",
   "execution_count": 1,
   "metadata": {},
   "outputs": [
    {
     "name": "stderr",
     "output_type": "stream",
     "text": [
      "Using TensorFlow backend.\n"
     ]
    }
   ],
   "source": [
    "from IPython.display import Image # display images\n",
    "import pandas as pd # data processing, CSV file I/O (e.g. pd.read_csv)\n",
    "import os\n",
    "\n",
    "# ignore warnings\n",
    "import warnings\n",
    "warnings.filterwarnings('ignore')\n",
    "\n",
    "# import model utils\n",
    "from models.utils import RocAucEvaluation\n",
    "from models.utils import tok_embed\n",
    "\n",
    "# sklearn\n",
    "from sklearn.model_selection import train_test_split"
   ]
  },
  {
   "cell_type": "markdown",
   "metadata": {},
   "source": [
    "## Table of Contents\n",
    "1. [Competition Overview](#Competition-Overview)\n",
    "    1. [Description](#Description)\n",
    "    2. [Evaluation](#Evaluation)\n",
    "    3. [Data-Overview](#Data-Overview)\n",
    "2. [Hardware Used](#Hardware-Used)\n",
    "3. [Load Data](#Load-Data)\n",
    "4. [Embeddings](#Embeddings)\n",
    "5. [Models](#Models)\n",
    "<br>\n",
    "<br>\n",
    "<br>\n",
    "\n",
    "## Competition Overview\n",
    "Discussing things you care about can be difficult. The threat of abuse and harassment online means that many people stop expressing themselves and give up on seeking different opinions. Platforms struggle to effectively facilitate conversations, leading many communities to limit or completely shut down user comments. The Kaggle Toxic Comment Classification Challenge sponsored by the Conversation AI team sets out to discover and apply machine learning to identify toxic comments. This (potentially) will allow platforms to identify toxic comments and to successfully fascilitate discussions at scale.\n",
    "<br>\n",
    "<br>\n",
    "<br>\n",
    "### Description\n",
    "The Conversation AI team, a research initiative founded by Jigsaw and Google (both a part of Alphabet) are working on tools to help improve online conversation. One area of focus is the study of negative online behaviors, like toxic comments (i.e. comments that are rude, disrespectful or otherwise likely to make someone leave a discussion). So far they’ve built a range of publicly available models served through the Perspective API, including toxicity. But the current models still make errors, and they don’t allow users to select which types of toxicity they’re interested in finding (e.g. some platforms may be fine with profanity, but not with other types of toxic content).\n",
    "<br>\n",
    "<br>\n",
    "In this competition, you’re challenged to build a multi-headed model that’s capable of detecting different types of of toxicity like threats, obscenity, insults, and identity-based hate better than Perspective’s current models. You’ll be using a dataset of comments from Wikipedia’s talk page edits. Improvements to the current model will hopefully help online discussion become more productive and respectful.\n",
    "<br>\n",
    "<br>\n",
    "***Disclaimer: the dataset for this competition contains text that may be considered profane, vulgar, or offensive.***\n",
    "<br>\n",
    "<br>\n",
    "<br>\n",
    "### Evalution\n",
    "We randomly select 10% of the training data as the development set. The evaluation metric is the mean column-wise ROC AUC. In other words, the score is the average of the individual AUCs of each predicted column.\n",
    "<br>\n",
    "<br>\n",
    "<br>\n",
    "### Data Overview\n",
    "You are provided with a large number of Wikipedia comments which have been labeled by human raters for toxic behavior. The types of toxicity are:\n",
    "- toxic\n",
    "- severe_toxic\n",
    "- obscene\n",
    "- threat\n",
    "- insult\n",
    "- identity_hate\n",
    "\n",
    "We must create a model which predicts a probability of each type of toxicity for each comment.\n",
    "<br>\n",
    "<br>\n",
    "\n",
    "File descriptions:\n",
    "- train.csv - the training set, contains comments with their binary labels\n",
    "- test.csv - the test set, you must predict the toxicity probabilities for these comments. To deter hand labeling, the test set contains some comments which are not included in scoring.\n",
    "<br>\n",
    "<br>\n",
    "\n",
    "***Source: Toxic Comment Classification Challenge, https://www.kaggle.com/c/jigsaw-toxic-comment-classification-challenge/***\n",
    "<br>\n",
    "<br>\n",
    "<br>\n",
    "\n",
    "## Hardware Used\n",
    "These models were trained on the amazon p3.8xlarge instance type and a deep learning AMI\n",
    "\n",
    "### p3.8xlarge\n",
    "\n",
    "| Instance Size | GPUs - Tesla V100 | GPU Peer to Peer | GPU Memory (GB) | vCPUs | Memory (GB) | Network Bandwidth | EBS Bandwidth | On-Demand Price/hr* | 1-yr Reserved Instance Effective Hourly* | 3-yr Reserved Instance Effective Hourly* |\n",
    "|---------------|-------------------|------------------|-----------------|-------|-------------|-------------------|---------------|---------------------|------------------------------------------|------------------------------------------|\n",
    "| p3.8xlarge    | 4                 | NVLink           | 64              | 32    | 244         | 10 Gbps           |  7 Gbps        | 12.24 USD             | 7.96 USD                                  | 9.87 USD                               |\n",
    "\n",
    "https://aws.amazon.com/ec2/instance-types/p3/\n",
    "<br>\n",
    "<br>\n",
    "<br>\n",
    "## Load Data"
   ]
  },
  {
   "cell_type": "code",
   "execution_count": 2,
   "metadata": {},
   "outputs": [],
   "source": [
    "# GLOBE PATHS\n",
    "TRAIN_FILE = '../data/train.csv'\n",
    "TEST_FILE = '../data/test.csv'\n",
    "EMBEDDING_FILE = '../data/glove.42B.300d.txt'\n",
    "\n",
    "\n",
    "# load\n",
    "train = pd.read_csv(TRAIN_FILE)\n",
    "test = pd.read_csv(TEST_FILE)\n",
    "\n",
    "\n",
    "# fill and store X's an y's\n",
    "X_train = train[\"comment_text\"].fillna(\"fillna\").values\n",
    "y_train = train[[\"toxic\", \"severe_toxic\", \"obscene\", \"threat\", \"insult\", \"identity_hate\"]].values\n",
    "X_test = test[\"comment_text\"].fillna(\"fillna\").values"
   ]
  },
  {
   "cell_type": "markdown",
   "metadata": {},
   "source": [
    "## Embeddings\n",
    "\n",
    "The word embeddings are pre-trained on much larger unannotated corpora to achieve better generalization given limited amount of training data (Turian et al., 2010). In particular, our experiments utilize the GloVe embeddings trained by Pennington et al. (2014) on 6 billion tokens of Wikipedia 2014 and Gigaword 5. Words not present in the set of pre-trained words are initialized by zeros. The dimension of word embeddings is 300.\n",
    "\n",
    "More info on GloVe Embeddings: https://nlp.stanford.edu/projects/glove/"
   ]
  },
  {
   "cell_type": "code",
   "execution_count": 3,
   "metadata": {},
   "outputs": [
    {
     "name": "stdout",
     "output_type": "stream",
     "text": [
      "tokenizing...\n"
     ]
    },
    {
     "name": "stderr",
     "output_type": "stream",
     "text": [
      "getting coefs: 1917494it [02:23, 13334.83it/s]\n",
      "creating embedding matrix: 100%|██████████| 394787/394787 [00:00<00:00, 455687.11it/s]\n"
     ]
    },
    {
     "name": "stdout",
     "output_type": "stream",
     "text": [
      "Found 1917494 word vectors.\n"
     ]
    }
   ],
   "source": [
    "# embedding parameters\n",
    "max_features = 300000\n",
    "maxlen = 200\n",
    "embed_size = 300\n",
    "embedding_path='../data/glove.42B.300d.txt'\n",
    "\n",
    "\n",
    "\n",
    "# get tokenized/padded and embedding matrix\n",
    "x_train, x_test, embedding_matrix = tok_embed(X_train, X_test, embedding_path=embedding_path, \n",
    "                                             max_features = max_features, \n",
    "                                             maxlen = maxlen, \n",
    "                                             embed_size = embed_size, \n",
    "                                             verbose=True)"
   ]
  },
  {
   "cell_type": "markdown",
   "metadata": {},
   "source": [
    "## Models\n",
    "\n",
    "### Common Hyperparameters"
   ]
  },
  {
   "cell_type": "code",
   "execution_count": 4,
   "metadata": {},
   "outputs": [],
   "source": [
    "# common hyperparameters\n",
    "gpus = 4\n",
    "\n",
    "# get test/train and ROC AUC callback\n",
    "[X_tra, X_val, y_tra, y_val] = train_test_split(x_train, y_train, test_size=.1, random_state=233)\n",
    "RocAuc = RocAucEvaluation(validation_data=(X_val, y_val), interval=1)"
   ]
  },
  {
   "cell_type": "markdown",
   "metadata": {},
   "source": [
    "### BLSTM 2DCNN\n",
    "Bidirectional LSTM with 2 Dimensional Convolution and 2D Max Pooling"
   ]
  },
  {
   "cell_type": "code",
   "execution_count": 5,
   "metadata": {},
   "outputs": [
    {
     "name": "stdout",
     "output_type": "stream",
     "text": [
      "Train on 143613 samples, validate on 15958 samples\n",
      "Epoch 1/3\n",
      "143613/143613 [==============================] - 518s 4ms/step - loss: 0.0584 - acc: 0.9804 - val_loss: 0.0524 - val_acc: 0.9818\n",
      "\n",
      " ROC-AUC - epoch: 1 - score: 0.983916 \n",
      "\n",
      "Epoch 2/3\n",
      "143613/143613 [==============================] - 515s 4ms/step - loss: 0.0457 - acc: 0.9837 - val_loss: 0.0498 - val_acc: 0.9818\n",
      "\n",
      " ROC-AUC - epoch: 2 - score: 0.986655 \n",
      "\n",
      "Epoch 3/3\n",
      "143613/143613 [==============================] - 514s 4ms/step - loss: 0.0397 - acc: 0.9858 - val_loss: 0.0490 - val_acc: 0.9837\n",
      "\n",
      " ROC-AUC - epoch: 3 - score: 0.985306 \n",
      "\n"
     ]
    }
   ],
   "source": [
    "# import model\n",
    "from models.gpu_model import blstm_2dcnn\n",
    "\n",
    "# model\n",
    "blstm_2dcnn_model = blstm_2dcnn(maxlen, max_features, embed_size, embedding_matrix,\n",
    "                                embedding_dropout = .5,\n",
    "                                blstm_units = 300,\n",
    "                                blstm_dropout = .2,\n",
    "                                cnn_filters = 100,\n",
    "                                cnn_kernel_size = (5,5),\n",
    "                                max_pool_size = (5,5),\n",
    "                                dense_dropout = .4,\n",
    "                                l2_reg = .00001,\n",
    "                                gpus = gpus)\n",
    "\n",
    "# fit\n",
    "hist = blstm_2dcnn_model.fit(X_tra, y_tra, batch_size=32, epochs=3, validation_data=(X_val, y_val),\n",
    "                 callbacks=[RocAuc], verbose=1)"
   ]
  },
  {
   "cell_type": "code",
   "execution_count": 6,
   "metadata": {},
   "outputs": [
    {
     "name": "stdout",
     "output_type": "stream",
     "text": [
      "Epoch 1/2\n",
      "159571/159571 [==============================] - 561s 4ms/step - loss: 0.0586 - acc: 0.9801\n",
      "Epoch 2/2\n",
      "159571/159571 [==============================] - 560s 4ms/step - loss: 0.0455 - acc: 0.9839\n",
      "153164/153164 [==============================] - 32s 207us/step\n"
     ]
    }
   ],
   "source": [
    "# model\n",
    "blstm_2dcnn_model = blstm_2dcnn(maxlen, max_features, embed_size, embedding_matrix,\n",
    "                                embedding_dropout = .5,\n",
    "                                blstm_units = 300,\n",
    "                                blstm_dropout = .2,\n",
    "                                cnn_filters = 100,\n",
    "                                cnn_kernel_size = (5,5),\n",
    "                                max_pool_size = (5,5),\n",
    "                                dense_dropout = .4,\n",
    "                                l2_reg = .00001,\n",
    "                                gpus = gpus)\n",
    "\n",
    "# fit on all data and save weights\n",
    "hist = blstm_2dcnn_model.fit(x_train, y_train, batch_size=32, epochs=2, verbose=1)\n",
    "\n",
    "# predict\n",
    "y_pred = blstm_2dcnn_model.predict(x_test, batch_size=256, verbose=1)\n",
    "\n",
    "# store\n",
    "submission = pd.read_csv('../data/sample_submission.csv')\n",
    "submission[[\"toxic\", \"severe_toxic\", \"obscene\", \"threat\", \"insult\", \"identity_hate\"]] = y_pred\n",
    "submission.to_csv('submissions/blstm_2dcnn_model_submission.csv.gz', compression='gzip', index=False)"
   ]
  },
  {
   "cell_type": "code",
   "execution_count": 7,
   "metadata": {},
   "outputs": [
    {
     "data": {
      "image/png": "[encoded data removed]",
      "text/plain": [
       "<IPython.core.display.Image object>"
      ]
     },
     "execution_count": 7,
     "metadata": {
      "image/png": {
       "width": 1000
      }
     },
     "output_type": "execute_result"
    }
   ],
   "source": [
    "Image('benchmark_assets/blstm_2dcnn.png', width=1000)"
   ]
  },
  {
   "cell_type": "markdown",
   "metadata": {},
   "source": [
    "### BGRU 2DCNN\n",
    "Bidirectional GRU with 2 Dimensional Convolution and 2D Max Pooling"
   ]
  },
  {
   "cell_type": "code",
   "execution_count": 5,
   "metadata": {},
   "outputs": [
    {
     "name": "stdout",
     "output_type": "stream",
     "text": [
      "Train on 143613 samples, validate on 15958 samples\n",
      "Epoch 1/3\n",
      "143613/143613 [==============================] - 506s 4ms/step - loss: 0.0622 - acc: 0.9798 - val_loss: 0.0580 - val_acc: 0.9810\n",
      "\n",
      " ROC-AUC - epoch: 1 - score: 0.982623 \n",
      "\n",
      "Epoch 2/3\n",
      "143613/143613 [==============================] - 502s 3ms/step - loss: 0.0509 - acc: 0.9835 - val_loss: 0.0529 - val_acc: 0.9835\n",
      "\n",
      " ROC-AUC - epoch: 2 - score: 0.986074 \n",
      "\n",
      "Epoch 3/3\n",
      "143613/143613 [==============================] - 502s 3ms/step - loss: 0.0453 - acc: 0.9855 - val_loss: 0.0626 - val_acc: 0.9810\n",
      "\n",
      " ROC-AUC - epoch: 3 - score: 0.986195 \n",
      "\n"
     ]
    }
   ],
   "source": [
    "# import model\n",
    "from models.gpu_model import bgru_2dcnn\n",
    "\n",
    "# model\n",
    "bgru_2dcnn_model = bgru_2dcnn(maxlen, max_features, embed_size, embedding_matrix,\n",
    "                                embedding_dropout = .5,\n",
    "                                bgru_units = 300,\n",
    "                                bgru_dropout = .2,\n",
    "                                cnn_filters = 100,\n",
    "                                cnn_kernel_size = (5,5),\n",
    "                                max_pool_size = (5,5),\n",
    "                                dense_dropout = .4,\n",
    "                                l2_reg = .00001,\n",
    "                                gpus = gpus)\n",
    "\n",
    "# fit\n",
    "hist = bgru_2dcnn_model.fit(X_tra, y_tra, batch_size=32, epochs=3, validation_data=(X_val, y_val),\n",
    "                 callbacks=[RocAuc], verbose=1)"
   ]
  },
  {
   "cell_type": "code",
   "execution_count": 7,
   "metadata": {},
   "outputs": [
    {
     "name": "stdout",
     "output_type": "stream",
     "text": [
      "Epoch 1/3\n",
      "159571/159571 [==============================] - 549s 3ms/step - loss: 0.0611 - acc: 0.9801\n",
      "Epoch 2/3\n",
      "159571/159571 [==============================] - 548s 3ms/step - loss: 0.0516 - acc: 0.9833\n",
      "Epoch 3/3\n",
      "159571/159571 [==============================] - 548s 3ms/step - loss: 0.0492 - acc: 0.9850\n",
      "153164/153164 [==============================] - 31s 204us/step\n"
     ]
    }
   ],
   "source": [
    "# model\n",
    "bgru_2dcnn_model = bgru_2dcnn(maxlen, max_features, embed_size, embedding_matrix,\n",
    "                                embedding_dropout = .5,\n",
    "                                bgru_units = 300,\n",
    "                                bgru_dropout = .2,\n",
    "                                cnn_filters = 100,\n",
    "                                cnn_kernel_size = (5,5),\n",
    "                                max_pool_size = (5,5),\n",
    "                                dense_dropout = .4,\n",
    "                                l2_reg = .00001,\n",
    "                                gpus = gpus)\n",
    "\n",
    "# fit on all data and save weights\n",
    "hist = bgru_2dcnn_model.fit(x_train, y_train, batch_size=32, epochs=3, verbose=1)\n",
    "\n",
    "# predict\n",
    "y_pred = bgru_2dcnn_model.predict(x_test, batch_size=256, verbose=1)\n",
    "\n",
    "# store\n",
    "submission = pd.read_csv('../data/sample_submission.csv')\n",
    "submission[[\"toxic\", \"severe_toxic\", \"obscene\", \"threat\", \"insult\", \"identity_hate\"]] = y_pred\n",
    "submission.to_csv('submissions/bgru_2dcnn_model_submission.csv.gz', compression='gzip', index=False)"
   ]
  },
  {
   "cell_type": "code",
   "execution_count": 8,
   "metadata": {},
   "outputs": [
    {
     "data": {
      "image/png": "[encoded data removed]",
      "text/plain": [
       "<IPython.core.display.Image object>"
      ]
     },
     "execution_count": 8,
     "metadata": {
      "image/png": {
       "width": 1000
      }
     },
     "output_type": "execute_result"
    }
   ],
   "source": [
    "Image('benchmark_assets/bgru_2dcnn.png', width=1000)"
   ]
  }
 ],
 "metadata": {
  "kernelspec": {
   "display_name": "Python [conda env:kc]",
   "language": "python",
   "name": "conda-env-kc-py"
  },
  "language_info": {
   "codemirror_mode": {
    "name": "ipython",
    "version": 3
   },
   "file_extension": ".py",
   "mimetype": "text/x-python",
   "name": "python",
   "nbconvert_exporter": "python",
   "pygments_lexer": "ipython3",
   "version": "3.6.4"
  }
 },
 "nbformat": 4,
 "nbformat_minor": 2
}
